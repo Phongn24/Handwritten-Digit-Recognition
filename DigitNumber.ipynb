{
  "nbformat": 4,
  "nbformat_minor": 0,
  "metadata": {
    "colab": {
      "provenance": []
    },
    "kernelspec": {
      "name": "python3",
      "display_name": "Python 3"
    },
    "language_info": {
      "name": "python"
    }
  },
  "cells": [
    {
      "cell_type": "code",
      "execution_count": null,
      "metadata": {
        "id": "BR3mWf4O_9FS"
      },
      "outputs": [],
      "source": [
        "# 1. Thêm các thư viện cần thiết\n",
        "import numpy as np\n",
        "import matplotlib.pyplot as plt\n",
        "from keras.models import Sequential\n",
        "from keras.layers import Dense, Dropout, Activation, Flatten\n",
        "from keras.layers import Conv2D, MaxPooling2D\n",
        "from keras.utils import to_categorical\n",
        "from keras.datasets import mnist #dataset"
      ]
    },
    {
      "cell_type": "code",
      "source": [
        "# 2. Load dữ liệu MNIST ( dữ liệu này có 60000 mẫu )\n",
        "(X_train, y_train), (X_test, y_test) = mnist.load_data()\n",
        "X_val, y_val = X_train[50000:60000,:], y_train[50000:60000]    # dữ liệu val là từ 50000-60000\n",
        "# validation dùng để đánh giá mô hình xem có bị overfitting hay underfitting ko\n",
        "X_train, y_train = X_train[:50000,:], y_train[:50000]          # dữ liệu train là 50000 mẫu đầu\n",
        "print(X_train.shape)"
      ],
      "metadata": {
        "colab": {
          "base_uri": "https://localhost:8080/"
        },
        "id": "Ctp-fjPmAKKY",
        "outputId": "16f6700b-bff0-405f-9322-341da66b4d0b"
      },
      "execution_count": null,
      "outputs": [
        {
          "output_type": "stream",
          "name": "stdout",
          "text": [
            "Downloading data from https://storage.googleapis.com/tensorflow/tf-keras-datasets/mnist.npz\n",
            "11490434/11490434 [==============================] - 0s 0us/step\n",
            "(50000, 28, 28)\n"
          ]
        }
      ]
    },
    {
      "cell_type": "code",
      "source": [
        "# 3. Reshape lại dữ liệu cho đúng kích thước mà keras yêu cầu\n",
        "# reshape tất cả dữ liệu để chuẩn hóa dữ liệu đầu vào mô hình CNN là 28*28*1 ( 28 *28 là số pixel , 1 là kênh màu gray )\n",
        "# bài này t chỉ làm 1 kênh màu duy nhất là gray cho đơn giản, có bài Handwritten thì làm 3 kênh (RGB) nhưng chưa đạt hiệu quả cao\n",
        "X_train = X_train.reshape(X_train.shape[0], 28, 28, 1)\n",
        "X_val = X_val.reshape(X_val.shape[0], 28, 28, 1)\n",
        "X_test = X_test.reshape(X_test.shape[0], 28, 28, 1)"
      ],
      "metadata": {
        "id": "KZdhI4oKAM4a"
      },
      "execution_count": null,
      "outputs": []
    },
    {
      "cell_type": "code",
      "source": [
        "# 4. One hot encoding label (Y)\n",
        "# one hot endcoding này để tính toán hàm loss function ( nên phải dựa vào loss function )\n",
        "# nghĩa là khi cho output X_train vào thì ra input là Y_prediction\n",
        "# Sau đó lấy Y_prediction đó so sánh với Y_train ( Y thực tế ) để xem xem nó có bị lệch nhiều không\n",
        "# Giá trị loss mà càng thấp thì mô hình càng tốt\n",
        "Y_train = to_categorical(y_train, 10)\n",
        "Y_val = to_categorical(y_val, 10)\n",
        "Y_test = to_categorical(y_test, 10)\n",
        "print('Dữ liệu y ban đầu ', y_train[0])\n",
        "print('Dữ liệu y sau one-hot encoding ',Y_train[0])\n",
        "# Cái one hot coding này nó sẽ chuyển dữ liệu từ số ( ví dụ như 5 ) chuyển thành dạng one hot encoding : [0. 0. 0. 0. 0. 1. 0. 0. 0. 0.]\n",
        "# tương tự với số 9 thì sẽ thành [0. 0. 0. 0. 0. 0. 0. 0. 0. 1.]\n",
        "# Cứ là số nào thì số thứ tự trong cái mảng đấy sẽ là 1"
      ],
      "metadata": {
        "colab": {
          "base_uri": "https://localhost:8080/"
        },
        "id": "xUfovvTZAOSg",
        "outputId": "a0ef001c-93fc-4726-882b-bcbdb66d0f4c"
      },
      "execution_count": null,
      "outputs": [
        {
          "output_type": "stream",
          "name": "stdout",
          "text": [
            "Dữ liệu y ban đầu  5\n",
            "Dữ liệu y sau one-hot encoding  [0. 0. 0. 0. 0. 1. 0. 0. 0. 0.]\n"
          ]
        }
      ]
    },
    {
      "cell_type": "code",
      "source": [
        "# 5. Định nghĩa model\n",
        "# Đây là mô hình CNN\n",
        "model = Sequential()\n",
        "# Sequential: Đây là một mô hình tuần tự, các lớp xếp chồng lên nhau một cách tuần tự. Mỗi một dòng là 1 lớp\n",
        "model.add(Conv2D(32, (3, 3), activation='sigmoid', input_shape=(28,28,1)))\n",
        "# Đây là lớp tích chập với 32 kernel 3*3, đầu vào là ảnh 28*28*1 (nãy t giải thích bên trên rồi) ; hàm sigmoid để đưa các giá trị đầu ra về khoảng (0,1)\n",
        "model.add(Conv2D(32, (3, 3), activation='sigmoid'))\n",
        "# Mục đích chính của các bước tích chập này là có thể lấy ra được các đặc trưng của ảnh thôi\n",
        "model.add(MaxPooling2D(pool_size=(2,2)))\n",
        "# Lớp này giảm kích thước của đặc trưng đầu ra bằng cách lấy giá trị lớn nhất trong mỗi cửa sổ 2x2.\n",
        "model.add(Flatten())\n",
        "# Chuyển đổi đầu ra của lớp tích chập thành vector 1 chiều để đưa vào lớp Dense\n",
        "# mục đích của lớp dense ( hay là fully connected layer ) là kết hợp các đặc điểm của ảnh để in ra output\n",
        "model.add(Dense(128, activation='sigmoid'))\n",
        "# Thêm lớp đầu ra 128 nơ-ron, mỗi nơ ron ánh xạ tới giá trị (0,1). Mục đích để dễ dàng hơn cho việc tính ở dense layer sau thôi\n",
        "model.add(Dense(10, activation='softmax'))\n",
        "# Thêm lớp đầu ra với 10 nơ-ron, mỗi nơ-ron tương ứng với một lớp (số 0-9). softmax đưa đầu ra là xác suất của các lớp, tổng xác suất bằng 1\n",
        "# Ví dụ như giá trị dự đoán là số 5 thì đầu ra của nó sẽ có dạng như này chả hạn : [0. 0. 0. 0,02. 0. 0,98. 0. 0. 0. 0.]\n",
        "\n",
        "\n",
        "# tất cả các thong số ko phải là ngẫu nhiên mà là do kết quả từ việc tối ưu số lượng parameter ( số mà càng to thì para càng lớn -> mô hình càng chậm mà chwua chắc đã chính xác)"
      ],
      "metadata": {
        "id": "c_bByQqDAPpj"
      },
      "execution_count": null,
      "outputs": []
    },
    {
      "cell_type": "code",
      "source": [
        "# 6. Compile model, chỉ rõ hàm loss_function nào được sử dụng, phương thức\n",
        "# đùng để tối ưu hàm loss function.\n",
        "model.compile(loss='categorical_crossentropy',  # hàm loss\n",
        "              optimizer='adam',    # hàm tối ưu\n",
        "              metrics=['accuracy'])"
      ],
      "metadata": {
        "id": "7Kdg95eJARFE"
      },
      "execution_count": null,
      "outputs": []
    },
    {
      "cell_type": "code",
      "source": [
        "# 7. Thực hiện train model với data\n",
        "H = model.fit(X_train, Y_train, validation_data=(X_val, Y_val),\n",
        "          batch_size=32, epochs=10, verbose=1)\n",
        "# batch : số lượng mẫu dữ liệu sử dụng trong mỗi batch ( nó chia ra để tính toán cập nhập hệ số thôi ko có j đâu ) - 50000 :32\n",
        "# epochs : Số lần toàn bộ tập dữ liệu huấn luyện sẽ được huấn luyện\n",
        "# verbose thì là những cái dữ liệu nó in ra từng epoch thôi ( cũng ko có j ); verbose = 0 thì nó ko in gì\n",
        "# verbose = 1 nó in ra như dưới này"
      ],
      "metadata": {
        "colab": {
          "base_uri": "https://localhost:8080/"
        },
        "id": "U6ha_h61ATCw",
        "outputId": "ed7146fd-b1fe-4ff2-e1de-d8485df1da8e"
      },
      "execution_count": null,
      "outputs": [
        {
          "output_type": "stream",
          "name": "stdout",
          "text": [
            "Epoch 1/10\n",
            "1563/1563 [==============================] - 111s 70ms/step - loss: 0.2977 - accuracy: 0.9160 - val_loss: 0.0845 - val_accuracy: 0.9769\n",
            "Epoch 2/10\n",
            "1563/1563 [==============================] - 88s 56ms/step - loss: 0.0600 - accuracy: 0.9831 - val_loss: 0.0592 - val_accuracy: 0.9830\n",
            "Epoch 3/10\n",
            "1563/1563 [==============================] - 91s 58ms/step - loss: 0.0379 - accuracy: 0.9894 - val_loss: 0.0458 - val_accuracy: 0.9864\n",
            "Epoch 4/10\n",
            "1563/1563 [==============================] - 89s 57ms/step - loss: 0.0254 - accuracy: 0.9929 - val_loss: 0.0418 - val_accuracy: 0.9869\n",
            "Epoch 5/10\n",
            "1563/1563 [==============================] - 89s 57ms/step - loss: 0.0172 - accuracy: 0.9949 - val_loss: 0.0509 - val_accuracy: 0.9858\n",
            "Epoch 6/10\n",
            "1563/1563 [==============================] - 88s 56ms/step - loss: 0.0120 - accuracy: 0.9967 - val_loss: 0.0396 - val_accuracy: 0.9901\n",
            "Epoch 7/10\n",
            "1563/1563 [==============================] - 89s 57ms/step - loss: 0.0076 - accuracy: 0.9982 - val_loss: 0.0390 - val_accuracy: 0.9881\n",
            "Epoch 8/10\n",
            "1563/1563 [==============================] - 88s 56ms/step - loss: 0.0056 - accuracy: 0.9989 - val_loss: 0.0400 - val_accuracy: 0.9888\n",
            "Epoch 9/10\n",
            "1563/1563 [==============================] - 90s 57ms/step - loss: 0.0053 - accuracy: 0.9986 - val_loss: 0.0449 - val_accuracy: 0.9873\n",
            "Epoch 10/10\n",
            "1563/1563 [==============================] - 88s 57ms/step - loss: 0.0042 - accuracy: 0.9990 - val_loss: 0.0393 - val_accuracy: 0.9897\n"
          ]
        }
      ]
    },
    {
      "cell_type": "code",
      "source": [
        "# 8. Vẽ đồ thị loss, accuracy của traning set và validation set\n",
        "fig = plt.figure()\n",
        "numOfEpoch = 10\n",
        "plt.plot(np.arange(0, numOfEpoch), H.history['loss'], label='training loss')\n",
        "plt.plot(np.arange(0, numOfEpoch), H.history['val_loss'], label='validation loss')\n",
        "plt.plot(np.arange(0, numOfEpoch), H.history['accuracy'], label='accuracy')\n",
        "plt.plot(np.arange(0, numOfEpoch), H.history['val_accuracy'], label='validation accuracy')\n",
        "plt.title('Accuracy and Loss')\n",
        "plt.xlabel('Epoch')\n",
        "plt.ylabel('Loss|Accuracy')\n",
        "plt.legend()"
      ],
      "metadata": {
        "id": "gpUgffGOAU_w"
      },
      "execution_count": null,
      "outputs": []
    },
    {
      "cell_type": "code",
      "source": [
        "# 9. Đánh giá model với dữ liệu test set\n",
        "score = model.evaluate(X_test, Y_test, verbose=0)\n",
        "print(score)"
      ],
      "metadata": {
        "id": "lidM5X53AWqQ"
      },
      "execution_count": null,
      "outputs": []
    },
    {
      "cell_type": "code",
      "source": [
        "# 10. Dự đoán ảnh\n",
        "plt.imshow(X_test[2].reshape(28,28), cmap='gray')\n",
        "\n",
        "y_predict = model.predict(X_test[2].reshape(1,28,28,1))\n",
        "print('Giá trị dự đoán: ', np.argmax(y_predict))"
      ],
      "metadata": {
        "id": "mvXK52VwAXlL"
      },
      "execution_count": null,
      "outputs": []
    }
  ]
}